{
 "cells": [
  {
   "cell_type": "code",
   "execution_count": 1,
   "metadata": {},
   "outputs": [],
   "source": [
    "import src.config as config"
   ]
  },
  {
   "cell_type": "code",
   "execution_count": 2,
   "metadata": {},
   "outputs": [
    {
     "name": "stdout",
     "output_type": "stream",
     "text": [
      "current_date=Timestamp('2023-06-09 09:00:00')\n"
     ]
    }
   ],
   "source": [
    "from datetime import datetime, timedelta\n",
    "import pandas as pd\n",
    "\n",
    "current_date = pd.to_datetime(datetime.utcnow()).floor('H')\n",
    "print(f'{current_date=}')\n",
    "\n",
    "#fetch raw data for last 28 days to add redundancy to our data pipeline\n",
    "fetch_data_to = current_date\n",
    "fetch_data_from = current_date - timedelta(days=28)"
   ]
  },
  {
   "cell_type": "code",
   "execution_count": 3,
   "metadata": {},
   "outputs": [],
   "source": [
    "from src.data import load_raw_data\n",
    "\n",
    "def fetch_batch_raw_data(from_date: datetime, to_date: datetime) -> pd.DataFrame:\n",
    "    \"\"\"\n",
    "    Simulate production data by sampling historical data from 52 weeks ago (1 year)\n",
    "    \"\"\"\n",
    "\n",
    "    from_date_ = from_date - timedelta(days = 7*52)\n",
    "    to_date_ = to_date - timedelta(days = 7*52)\n",
    "    print(f'{from_date=}, {to_date=}')\n",
    "\n",
    "    #donwload 2 files from website\n",
    "    rides = load_raw_data(year = from_date_.year, months = from_date_.month)\n",
    "    rides = rides[rides['pickup_datetime'] >= from_date_]\n",
    "    rides_2 = load_raw_data(year = to_date_.year, months = to_date_.month)\n",
    "    rides_2 = rides_2[rides_2['pickup_datetime'] < to_date_]\n",
    "\n",
    "    rides = pd.concat([rides, rides_2])\n",
    "\n",
    "    #shift the data to pretend this is recent data\n",
    "    rides['pickup_datetime'] += timedelta(days = 7*52)\n",
    "    rides = rides.sort_values(by = ['pickup_location_id', 'pickup_datetime'])\n",
    "\n",
    "    return rides"
   ]
  },
  {
   "cell_type": "code",
   "execution_count": 4,
   "metadata": {},
   "outputs": [
    {
     "name": "stdout",
     "output_type": "stream",
     "text": [
      "from_date=Timestamp('2023-05-12 09:00:00'), to_date=Timestamp('2023-06-09 09:00:00')\n",
      "File 2022-05 was already in local storage\n",
      "File 2022-06 was already in local storage\n"
     ]
    },
    {
     "data": {
      "text/html": [
       "<div>\n",
       "<style scoped>\n",
       "    .dataframe tbody tr th:only-of-type {\n",
       "        vertical-align: middle;\n",
       "    }\n",
       "\n",
       "    .dataframe tbody tr th {\n",
       "        vertical-align: top;\n",
       "    }\n",
       "\n",
       "    .dataframe thead th {\n",
       "        text-align: right;\n",
       "    }\n",
       "</style>\n",
       "<table border=\"1\" class=\"dataframe\">\n",
       "  <thead>\n",
       "    <tr style=\"text-align: right;\">\n",
       "      <th></th>\n",
       "      <th>pickup_datetime</th>\n",
       "      <th>pickup_location_id</th>\n",
       "    </tr>\n",
       "  </thead>\n",
       "  <tbody>\n",
       "    <tr>\n",
       "      <th>1393800</th>\n",
       "      <td>2023-05-12 11:11:45</td>\n",
       "      <td>1</td>\n",
       "    </tr>\n",
       "    <tr>\n",
       "      <th>1394277</th>\n",
       "      <td>2023-05-12 11:55:33</td>\n",
       "      <td>1</td>\n",
       "    </tr>\n",
       "    <tr>\n",
       "      <th>1399968</th>\n",
       "      <td>2023-05-12 12:52:17</td>\n",
       "      <td>1</td>\n",
       "    </tr>\n",
       "    <tr>\n",
       "      <th>1399381</th>\n",
       "      <td>2023-05-12 12:52:29</td>\n",
       "      <td>1</td>\n",
       "    </tr>\n",
       "    <tr>\n",
       "      <th>1405113</th>\n",
       "      <td>2023-05-12 13:03:00</td>\n",
       "      <td>1</td>\n",
       "    </tr>\n",
       "  </tbody>\n",
       "</table>\n",
       "</div>"
      ],
      "text/plain": [
       "            pickup_datetime  pickup_location_id\n",
       "1393800 2023-05-12 11:11:45                   1\n",
       "1394277 2023-05-12 11:55:33                   1\n",
       "1399968 2023-05-12 12:52:17                   1\n",
       "1399381 2023-05-12 12:52:29                   1\n",
       "1405113 2023-05-12 13:03:00                   1"
      ]
     },
     "execution_count": 4,
     "metadata": {},
     "output_type": "execute_result"
    }
   ],
   "source": [
    "rides = fetch_batch_raw_data(from_date=fetch_data_from, to_date=fetch_data_to)"
   ]
  },
  {
   "cell_type": "code",
   "execution_count": 6,
   "metadata": {},
   "outputs": [
    {
     "name": "stderr",
     "output_type": "stream",
     "text": [
      "100%|██████████| 265/265 [00:00<00:00, 1203.02it/s]\n"
     ]
    }
   ],
   "source": [
    "from src.data import transform_raw_data_into_ts_data\n",
    "ts_data = transform_raw_data_into_ts_data(rides)"
   ]
  },
  {
   "cell_type": "code",
   "execution_count": 7,
   "metadata": {},
   "outputs": [
    {
     "name": "stdout",
     "output_type": "stream",
     "text": [
      "Connected. Call `.close()` to terminate connection gracefully.\n",
      "\n",
      "Logged in to project, explore it here https://c.app.hopsworks.ai:443/p/45206\n",
      "Connected. Call `.close()` to terminate connection gracefully.\n"
     ]
    }
   ],
   "source": [
    "import hopsworks\n",
    "\n",
    "#Connect to the project\n",
    "project = hopsworks.login(\n",
    "    project = config.HOPSWORKS_PROJECT_NAME,\n",
    "    api_key_value= config.HOPSWORKS_API_KEY\n",
    ")\n",
    "\n",
    "#Connect to the feature store\n",
    "feature_store = project.get_feature_store()\n",
    "\n",
    "#connect to the feature_group\n",
    "feature_group = feature_store.get_or_create_feature_group(\n",
    "    name = config.FEATURE_GROUP_NAME,\n",
    "    version = config.FEATURE_GROUP_VERSION,\n",
    "    description = 'Time-series data at hourly frequency',\n",
    "    primary_key= ['pickup_location_id', 'pickup_hour'],\n",
    "    event_time = 'pickup_hour'\n",
    ")"
   ]
  },
  {
   "cell_type": "code",
   "execution_count": 8,
   "metadata": {},
   "outputs": [
    {
     "data": {
      "application/vnd.jupyter.widget-view+json": {
       "model_id": "8c5ae2a555ee40be95961ef91fa33727",
       "version_major": 2,
       "version_minor": 0
      },
      "text/plain": [
       "Uploading Dataframe: 0.00% |          | Rows 0/178080 | Elapsed Time: 00:00 | Remaining Time: ?"
      ]
     },
     "metadata": {},
     "output_type": "display_data"
    },
    {
     "name": "stderr",
     "output_type": "stream",
     "text": [
      "%4|1686301355.474|FAIL|Adityas-MacBook-Air.local#producer-1| [thrd:ssl://c.app.hopsworks.ai:9092/bootstrap]: ssl://c.app.hopsworks.ai:9092/0: Connection setup timed out in state SSL_HANDSHAKE (after 30062ms in state SSL_HANDSHAKE)\n",
      "%5|1686301386.417|REQTMOUT|Adityas-MacBook-Air.local#producer-1| [thrd:ssl://3.142.251.253:9092/bootstrap]: ssl://3.142.251.253:9092/2: Timed out ProduceRequest in flight (after 60974ms, timeout #0)\n",
      "%5|1686301386.418|REQTMOUT|Adityas-MacBook-Air.local#producer-1| [thrd:ssl://3.142.251.253:9092/bootstrap]: ssl://3.142.251.253:9092/2: Timed out ProduceRequest in flight (after 60973ms, timeout #1)\n",
      "%5|1686301386.418|REQTMOUT|Adityas-MacBook-Air.local#producer-1| [thrd:ssl://3.142.251.253:9092/bootstrap]: ssl://3.142.251.253:9092/2: Timed out ProduceRequest in flight (after 60973ms, timeout #2)\n",
      "%4|1686301386.419|REQTMOUT|Adityas-MacBook-Air.local#producer-1| [thrd:ssl://3.142.251.253:9092/bootstrap]: ssl://3.142.251.253:9092/2: Timed out 3 in-flight, 0 retry-queued, 2 out-queue, 1 partially-sent requests\n",
      "%3|1686301386.419|FAIL|Adityas-MacBook-Air.local#producer-1| [thrd:ssl://3.142.251.253:9092/bootstrap]: ssl://3.142.251.253:9092/2: 5 request(s) timed out: disconnect (after 60976ms in state UP)\n",
      "%4|1686301452.112|REQTMOUT|Adityas-MacBook-Air.local#producer-1| [thrd:ssl://3.142.251.253:9092/bootstrap]: ssl://3.142.251.253:9092/2: Timed out 0 in-flight, 0 retry-queued, 1 out-queue, 1 partially-sent requests\n",
      "%3|1686301452.112|FAIL|Adityas-MacBook-Air.local#producer-1| [thrd:ssl://3.142.251.253:9092/bootstrap]: ssl://3.142.251.253:9092/2: 1 request(s) timed out: disconnect (after 60068ms in state UP)\n"
     ]
    },
    {
     "name": "stdout",
     "output_type": "stream",
     "text": [
      "Launching offline feature group backfill job...\n",
      "Backfill Job started successfully, you can follow the progress at \n",
      "https://c.app.hopsworks.ai/p/45206/jobs/named/time_series_hourly_feature_group_1_offline_fg_backfill/executions\n"
     ]
    },
    {
     "data": {
      "text/plain": [
       "(<hsfs.core.job.Job at 0x2a332d6d0>, None)"
      ]
     },
     "execution_count": 8,
     "metadata": {},
     "output_type": "execute_result"
    }
   ],
   "source": [
    "feature_group.insert(ts_data, write_options={'wait_for_job':False})"
   ]
  },
  {
   "cell_type": "code",
   "execution_count": null,
   "metadata": {},
   "outputs": [],
   "source": []
  }
 ],
 "metadata": {
  "kernelspec": {
   "display_name": ".venv",
   "language": "python",
   "name": "python3"
  },
  "language_info": {
   "codemirror_mode": {
    "name": "ipython",
    "version": 3
   },
   "file_extension": ".py",
   "mimetype": "text/x-python",
   "name": "python",
   "nbconvert_exporter": "python",
   "pygments_lexer": "ipython3",
   "version": "3.9.6"
  },
  "orig_nbformat": 4
 },
 "nbformat": 4,
 "nbformat_minor": 2
}
