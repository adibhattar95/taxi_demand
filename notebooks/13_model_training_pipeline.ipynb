{
 "cells": [
  {
   "cell_type": "code",
   "execution_count": 24,
   "metadata": {},
   "outputs": [],
   "source": [
    "%reload_ext autoreload\n",
    "%autoreload 2"
   ]
  },
  {
   "cell_type": "code",
   "execution_count": 25,
   "metadata": {},
   "outputs": [],
   "source": [
    "import src.config as config"
   ]
  },
  {
   "cell_type": "code",
   "execution_count": 26,
   "metadata": {},
   "outputs": [
    {
     "name": "stdout",
     "output_type": "stream",
     "text": [
      "Connection closed.\n",
      "Connected. Call `.close()` to terminate connection gracefully.\n",
      "\n",
      "Logged in to project, explore it here https://c.app.hopsworks.ai:443/p/45206\n",
      "Connected. Call `.close()` to terminate connection gracefully.\n"
     ]
    }
   ],
   "source": [
    "import hopsworks\n",
    "\n",
    "#Connect to the project\n",
    "project = hopsworks.login(\n",
    "    project = config.HOPSWORKS_PROJECT_NAME,\n",
    "    api_key_value= config.HOPSWORKS_API_KEY\n",
    ")\n",
    "\n",
    "#Connect to the feature store\n",
    "feature_store = project.get_feature_store()\n",
    "\n",
    "#connect to the feature_group\n",
    "feature_group = feature_store.get_or_create_feature_group(\n",
    "    name = config.FEATURE_GROUP_NAME,\n",
    "    version = config.FEATURE_GROUP_VERSION,\n",
    "    description = 'Time-series data at hourly frequency',\n",
    "    primary_key= ['pickup_location_id', 'pickup_hour'],\n",
    "    event_time = 'pickup_hour'\n",
    ")"
   ]
  },
  {
   "cell_type": "code",
   "execution_count": 27,
   "metadata": {},
   "outputs": [
    {
     "name": "stdout",
     "output_type": "stream",
     "text": [
      "Feature view already existed. Skip creation\n"
     ]
    }
   ],
   "source": [
    "#Create a feature view, if it doesn't exist yet\n",
    "#This feature view only uses one feature group, so the query is trivial\n",
    "\n",
    "try:\n",
    "    #Create feature view if it doesnt exist yet\n",
    "    feature_store.create_feature_view(\n",
    "        name = config.FEATURE_VIEW_NAME,\n",
    "        version = config.FEATURE_VIEW_VERSION,\n",
    "        query = feature_group.select_all()\n",
    "    )\n",
    "except:\n",
    "    print('Feature view already existed. Skip creation')\n",
    "\n",
    "#Get feature_view\n",
    "feature_view = feature_store.get_feature_view(\n",
    "    name = config.FEATURE_VIEW_NAME,\n",
    "    version = config.FEATURE_VIEW_VERSION\n",
    ")"
   ]
  },
  {
   "cell_type": "code",
   "execution_count": 28,
   "metadata": {},
   "outputs": [
    {
     "name": "stdout",
     "output_type": "stream",
     "text": [
      "2023-05-17 22:08:43,281 INFO: USE `taxi_demand_adi_featurestore`\n",
      "2023-05-17 22:08:44,144 INFO: SELECT `fg0`.`pickup_hour` `pickup_hour`, `fg0`.`rides` `rides`, `fg0`.`pickup_location_id` `pickup_location_id`\n",
      "FROM `taxi_demand_adi_featurestore`.`time_series_hourly_feature_group_1` `fg0`\n"
     ]
    },
    {
     "name": "stderr",
     "output_type": "stream",
     "text": [
      "UserWarning: pandas only supports SQLAlchemy connectable (engine/connection) or database string URI or sqlite3 DBAPI2 connection. Other DBAPI2 objects are not tested. Please consider using SQLAlchemy.\n",
      "VersionWarning: Incremented version to `4`.\n"
     ]
    }
   ],
   "source": [
    "ts_data, _ = feature_view.training_data(\n",
    "    description = 'Time-series hourly taxi rides'\n",
    ")"
   ]
  },
  {
   "cell_type": "code",
   "execution_count": 29,
   "metadata": {},
   "outputs": [
    {
     "data": {
      "text/html": [
       "<div>\n",
       "<style scoped>\n",
       "    .dataframe tbody tr th:only-of-type {\n",
       "        vertical-align: middle;\n",
       "    }\n",
       "\n",
       "    .dataframe tbody tr th {\n",
       "        vertical-align: top;\n",
       "    }\n",
       "\n",
       "    .dataframe thead th {\n",
       "        text-align: right;\n",
       "    }\n",
       "</style>\n",
       "<table border=\"1\" class=\"dataframe\">\n",
       "  <thead>\n",
       "    <tr style=\"text-align: right;\">\n",
       "      <th></th>\n",
       "      <th>pickup_hour</th>\n",
       "      <th>rides</th>\n",
       "      <th>pickup_location_id</th>\n",
       "    </tr>\n",
       "  </thead>\n",
       "  <tbody>\n",
       "    <tr>\n",
       "      <th>1542238</th>\n",
       "      <td>2022-01-01 00:00:00</td>\n",
       "      <td>0</td>\n",
       "      <td>1</td>\n",
       "    </tr>\n",
       "    <tr>\n",
       "      <th>600454</th>\n",
       "      <td>2022-01-01 01:00:00</td>\n",
       "      <td>0</td>\n",
       "      <td>1</td>\n",
       "    </tr>\n",
       "    <tr>\n",
       "      <th>1402600</th>\n",
       "      <td>2022-01-01 02:00:00</td>\n",
       "      <td>0</td>\n",
       "      <td>1</td>\n",
       "    </tr>\n",
       "    <tr>\n",
       "      <th>486632</th>\n",
       "      <td>2022-01-01 03:00:00</td>\n",
       "      <td>0</td>\n",
       "      <td>1</td>\n",
       "    </tr>\n",
       "    <tr>\n",
       "      <th>312687</th>\n",
       "      <td>2022-01-01 04:00:00</td>\n",
       "      <td>1</td>\n",
       "      <td>1</td>\n",
       "    </tr>\n",
       "  </tbody>\n",
       "</table>\n",
       "</div>"
      ],
      "text/plain": [
       "                pickup_hour  rides  pickup_location_id\n",
       "1542238 2022-01-01 00:00:00      0                   1\n",
       "600454  2022-01-01 01:00:00      0                   1\n",
       "1402600 2022-01-01 02:00:00      0                   1\n",
       "486632  2022-01-01 03:00:00      0                   1\n",
       "312687  2022-01-01 04:00:00      1                   1"
      ]
     },
     "execution_count": 29,
     "metadata": {},
     "output_type": "execute_result"
    }
   ],
   "source": [
    "ts_data = ts_data.sort_values(by = ['pickup_location_id', 'pickup_hour'])\n",
    "ts_data.head()"
   ]
  },
  {
   "cell_type": "code",
   "execution_count": 30,
   "metadata": {},
   "outputs": [
    {
     "name": "stderr",
     "output_type": "stream",
     "text": [
      "100%|██████████| 262/262 [01:24<00:00,  3.09it/s]\n"
     ]
    },
    {
     "name": "stdout",
     "output_type": "stream",
     "text": [
      "features_and_target.shape=(115921, 675)\n"
     ]
    }
   ],
   "source": [
    "from src.data import transform_ts_data_into_features_and_target\n",
    "\n",
    "features, targets = transform_ts_data_into_features_and_target(ts_data, input_seq_len=24*28, step_size=23)\n",
    "\n",
    "features_and_target = features.copy()\n",
    "features_and_target['target_rides_next_hour'] = targets\n",
    "\n",
    "print(f'{features_and_target.shape=}')"
   ]
  },
  {
   "cell_type": "code",
   "execution_count": 31,
   "metadata": {},
   "outputs": [
    {
     "name": "stdout",
     "output_type": "stream",
     "text": [
      "cutoff_date=Timestamp('2023-04-19 00:00:00')\n",
      "X_train.shape=(108468, 674)\n",
      "y_train.shape=(108468,)\n",
      "X_test.shape=(7453, 674)\n",
      "y_test.shape=(7453,)\n"
     ]
    }
   ],
   "source": [
    "from datetime import date, timedelta\n",
    "from pytz import timezone\n",
    "import pandas as pd\n",
    "from src.data_split import train_test_split\n",
    "\n",
    "cutoff_date = pd.to_datetime(date.today() - timedelta(days=28*1))\n",
    "print(f'{cutoff_date=}')\n",
    "\n",
    "X_train, y_train, X_test, y_test = train_test_split(features_and_target, cutoff_date, target_column_name='target_rides_next_hour')\n",
    "\n",
    "print(f'{X_train.shape=}')\n",
    "print(f'{y_train.shape=}')\n",
    "print(f'{X_test.shape=}')\n",
    "print(f'{y_test.shape=}')"
   ]
  },
  {
   "cell_type": "code",
   "execution_count": 32,
   "metadata": {},
   "outputs": [],
   "source": [
    "import numpy as np\n",
    "from sklearn.model_selection import KFold, TimeSeriesSplit\n",
    "from sklearn.pipeline import make_pipeline\n",
    "from sklearn.metrics import mean_absolute_error\n",
    "import optuna\n",
    "import warnings\n",
    "warnings.filterwarnings('ignore')\n",
    "\n",
    "from src.model import get_pipeline\n",
    "\n",
    "def objective(trial: optuna.trial.Trial) -> float:\n",
    "    \"\"\"\n",
    "    Given a set of hyperparameters, it trains a model an computes an average validation error based on TimeSeriesSplit\n",
    "    \"\"\"\n",
    "\n",
    "    #pick hyper_parameters\n",
    "    hyperparams = {\n",
    "        'metric':'mae',\n",
    "        'verbose': -1,\n",
    "        'num_leaves': trial.suggest_int('num_leaves', 2, 256),\n",
    "        'feature_fraction': trial.suggest_float('feature_fraction', 0.2, 1.0),\n",
    "        'bagging_fraction': trial.suggest_float('bagging_fraction', 0.2, 1.0),\n",
    "        'min_child_samples': trial.suggest_int('min_child_samples', 3, 100)\n",
    "    }\n",
    "\n",
    "    tss = TimeSeriesSplit(n_splits = 4)\n",
    "    scores = []\n",
    "    for train_index, val_index in tss.split(X_train):\n",
    "        #Split the data into train and validation\n",
    "        X_train_, X_val_ = X_train.iloc[train_index, :], X_train.iloc[val_index, :]\n",
    "        y_train_, y_val_ = y_train.iloc[train_index], y_train.iloc[val_index]\n",
    "\n",
    "        #train the model\n",
    "        pipeline = get_pipeline(**hyperparams)\n",
    "        pipeline.fit(X_train_, y_train_)\n",
    "\n",
    "        #Evaluate the model\n",
    "        y_pred = pipeline.predict(X_val_)\n",
    "        mae = mean_absolute_error(y_val_, y_pred)\n",
    "\n",
    "        scores.append(mae)\n",
    "    return np.array(scores).mean()"
   ]
  },
  {
   "cell_type": "code",
   "execution_count": 33,
   "metadata": {},
   "outputs": [
    {
     "name": "stderr",
     "output_type": "stream",
     "text": [
      "\u001b[32m[I 2023-05-17 22:23:45,290]\u001b[0m A new study created in memory with name: no-name-a54c4a73-a802-472a-9320-88597a601b17\u001b[0m\n"
     ]
    },
    {
     "name": "stdout",
     "output_type": "stream",
     "text": [
      "[LightGBM] [Warning] feature_fraction is set=0.6240077731212971, colsample_bytree=1.0 will be ignored. Current value: feature_fraction=0.6240077731212971\n",
      "[LightGBM] [Warning] bagging_fraction is set=0.8356934535326543, subsample=1.0 will be ignored. Current value: bagging_fraction=0.8356934535326543\n",
      "[LightGBM] [Warning] feature_fraction is set=0.6240077731212971, colsample_bytree=1.0 will be ignored. Current value: feature_fraction=0.6240077731212971\n",
      "[LightGBM] [Warning] bagging_fraction is set=0.8356934535326543, subsample=1.0 will be ignored. Current value: bagging_fraction=0.8356934535326543\n",
      "[LightGBM] [Warning] feature_fraction is set=0.6240077731212971, colsample_bytree=1.0 will be ignored. Current value: feature_fraction=0.6240077731212971\n",
      "[LightGBM] [Warning] bagging_fraction is set=0.8356934535326543, subsample=1.0 will be ignored. Current value: bagging_fraction=0.8356934535326543\n",
      "[LightGBM] [Warning] feature_fraction is set=0.6240077731212971, colsample_bytree=1.0 will be ignored. Current value: feature_fraction=0.6240077731212971\n",
      "[LightGBM] [Warning] bagging_fraction is set=0.8356934535326543, subsample=1.0 will be ignored. Current value: bagging_fraction=0.8356934535326543\n"
     ]
    },
    {
     "name": "stderr",
     "output_type": "stream",
     "text": [
      "\u001b[32m[I 2023-05-17 22:27:04,553]\u001b[0m Trial 0 finished with value: 3.0948454520548117 and parameters: {'num_leaves': 191, 'feature_fraction': 0.6240077731212971, 'bagging_fraction': 0.8356934535326543, 'min_child_samples': 58}. Best is trial 0 with value: 3.0948454520548117.\u001b[0m\n"
     ]
    },
    {
     "name": "stdout",
     "output_type": "stream",
     "text": [
      "[LightGBM] [Warning] feature_fraction is set=0.7497264451442789, colsample_bytree=1.0 will be ignored. Current value: feature_fraction=0.7497264451442789\n",
      "[LightGBM] [Warning] bagging_fraction is set=0.2539000906005793, subsample=1.0 will be ignored. Current value: bagging_fraction=0.2539000906005793\n",
      "[LightGBM] [Warning] feature_fraction is set=0.7497264451442789, colsample_bytree=1.0 will be ignored. Current value: feature_fraction=0.7497264451442789\n",
      "[LightGBM] [Warning] bagging_fraction is set=0.2539000906005793, subsample=1.0 will be ignored. Current value: bagging_fraction=0.2539000906005793\n",
      "[LightGBM] [Warning] feature_fraction is set=0.7497264451442789, colsample_bytree=1.0 will be ignored. Current value: feature_fraction=0.7497264451442789\n",
      "[LightGBM] [Warning] bagging_fraction is set=0.2539000906005793, subsample=1.0 will be ignored. Current value: bagging_fraction=0.2539000906005793\n",
      "[LightGBM] [Warning] feature_fraction is set=0.7497264451442789, colsample_bytree=1.0 will be ignored. Current value: feature_fraction=0.7497264451442789\n",
      "[LightGBM] [Warning] bagging_fraction is set=0.2539000906005793, subsample=1.0 will be ignored. Current value: bagging_fraction=0.2539000906005793\n"
     ]
    },
    {
     "name": "stderr",
     "output_type": "stream",
     "text": [
      "\u001b[32m[I 2023-05-17 22:28:59,826]\u001b[0m Trial 1 finished with value: 3.110712600950043 and parameters: {'num_leaves': 74, 'feature_fraction': 0.7497264451442789, 'bagging_fraction': 0.2539000906005793, 'min_child_samples': 57}. Best is trial 0 with value: 3.0948454520548117.\u001b[0m\n"
     ]
    },
    {
     "name": "stdout",
     "output_type": "stream",
     "text": [
      "[LightGBM] [Warning] feature_fraction is set=0.3328827279083393, colsample_bytree=1.0 will be ignored. Current value: feature_fraction=0.3328827279083393\n",
      "[LightGBM] [Warning] bagging_fraction is set=0.534782425635778, subsample=1.0 will be ignored. Current value: bagging_fraction=0.534782425635778\n",
      "[LightGBM] [Warning] feature_fraction is set=0.3328827279083393, colsample_bytree=1.0 will be ignored. Current value: feature_fraction=0.3328827279083393\n",
      "[LightGBM] [Warning] bagging_fraction is set=0.534782425635778, subsample=1.0 will be ignored. Current value: bagging_fraction=0.534782425635778\n",
      "[LightGBM] [Warning] feature_fraction is set=0.3328827279083393, colsample_bytree=1.0 will be ignored. Current value: feature_fraction=0.3328827279083393\n",
      "[LightGBM] [Warning] bagging_fraction is set=0.534782425635778, subsample=1.0 will be ignored. Current value: bagging_fraction=0.534782425635778\n",
      "[LightGBM] [Warning] feature_fraction is set=0.3328827279083393, colsample_bytree=1.0 will be ignored. Current value: feature_fraction=0.3328827279083393\n",
      "[LightGBM] [Warning] bagging_fraction is set=0.534782425635778, subsample=1.0 will be ignored. Current value: bagging_fraction=0.534782425635778\n"
     ]
    },
    {
     "name": "stderr",
     "output_type": "stream",
     "text": [
      "\u001b[32m[I 2023-05-17 22:30:08,966]\u001b[0m Trial 2 finished with value: 3.1498409680532324 and parameters: {'num_leaves': 26, 'feature_fraction': 0.3328827279083393, 'bagging_fraction': 0.534782425635778, 'min_child_samples': 21}. Best is trial 0 with value: 3.0948454520548117.\u001b[0m\n"
     ]
    },
    {
     "name": "stdout",
     "output_type": "stream",
     "text": [
      "[LightGBM] [Warning] feature_fraction is set=0.3871742610861267, colsample_bytree=1.0 will be ignored. Current value: feature_fraction=0.3871742610861267\n",
      "[LightGBM] [Warning] bagging_fraction is set=0.8169907452864829, subsample=1.0 will be ignored. Current value: bagging_fraction=0.8169907452864829\n",
      "[LightGBM] [Warning] feature_fraction is set=0.3871742610861267, colsample_bytree=1.0 will be ignored. Current value: feature_fraction=0.3871742610861267\n",
      "[LightGBM] [Warning] bagging_fraction is set=0.8169907452864829, subsample=1.0 will be ignored. Current value: bagging_fraction=0.8169907452864829\n",
      "[LightGBM] [Warning] feature_fraction is set=0.3871742610861267, colsample_bytree=1.0 will be ignored. Current value: feature_fraction=0.3871742610861267\n",
      "[LightGBM] [Warning] bagging_fraction is set=0.8169907452864829, subsample=1.0 will be ignored. Current value: bagging_fraction=0.8169907452864829\n",
      "[LightGBM] [Warning] feature_fraction is set=0.3871742610861267, colsample_bytree=1.0 will be ignored. Current value: feature_fraction=0.3871742610861267\n",
      "[LightGBM] [Warning] bagging_fraction is set=0.8169907452864829, subsample=1.0 will be ignored. Current value: bagging_fraction=0.8169907452864829\n"
     ]
    },
    {
     "name": "stderr",
     "output_type": "stream",
     "text": [
      "\u001b[32m[I 2023-05-17 22:32:15,884]\u001b[0m Trial 3 finished with value: 3.1443451315056925 and parameters: {'num_leaves': 104, 'feature_fraction': 0.3871742610861267, 'bagging_fraction': 0.8169907452864829, 'min_child_samples': 87}. Best is trial 0 with value: 3.0948454520548117.\u001b[0m\n"
     ]
    },
    {
     "name": "stdout",
     "output_type": "stream",
     "text": [
      "[LightGBM] [Warning] feature_fraction is set=0.6359670844316767, colsample_bytree=1.0 will be ignored. Current value: feature_fraction=0.6359670844316767\n",
      "[LightGBM] [Warning] bagging_fraction is set=0.7533804132830637, subsample=1.0 will be ignored. Current value: bagging_fraction=0.7533804132830637\n",
      "[LightGBM] [Warning] feature_fraction is set=0.6359670844316767, colsample_bytree=1.0 will be ignored. Current value: feature_fraction=0.6359670844316767\n",
      "[LightGBM] [Warning] bagging_fraction is set=0.7533804132830637, subsample=1.0 will be ignored. Current value: bagging_fraction=0.7533804132830637\n",
      "[LightGBM] [Warning] feature_fraction is set=0.6359670844316767, colsample_bytree=1.0 will be ignored. Current value: feature_fraction=0.6359670844316767\n",
      "[LightGBM] [Warning] bagging_fraction is set=0.7533804132830637, subsample=1.0 will be ignored. Current value: bagging_fraction=0.7533804132830637\n",
      "[LightGBM] [Warning] feature_fraction is set=0.6359670844316767, colsample_bytree=1.0 will be ignored. Current value: feature_fraction=0.6359670844316767\n",
      "[LightGBM] [Warning] bagging_fraction is set=0.7533804132830637, subsample=1.0 will be ignored. Current value: bagging_fraction=0.7533804132830637\n"
     ]
    },
    {
     "name": "stderr",
     "output_type": "stream",
     "text": [
      "\u001b[32m[I 2023-05-17 22:33:44,969]\u001b[0m Trial 4 finished with value: 3.1351314529713665 and parameters: {'num_leaves': 25, 'feature_fraction': 0.6359670844316767, 'bagging_fraction': 0.7533804132830637, 'min_child_samples': 35}. Best is trial 0 with value: 3.0948454520548117.\u001b[0m\n"
     ]
    }
   ],
   "source": [
    "study = optuna.create_study(direction='minimize')\n",
    "study.optimize(objective, n_trials=5)"
   ]
  },
  {
   "cell_type": "code",
   "execution_count": 34,
   "metadata": {},
   "outputs": [
    {
     "name": "stdout",
     "output_type": "stream",
     "text": [
      "best_params={'num_leaves': 191, 'feature_fraction': 0.6240077731212971, 'bagging_fraction': 0.8356934535326543, 'min_child_samples': 58}\n"
     ]
    }
   ],
   "source": [
    "best_params = study.best_trial.params\n",
    "print(f'{best_params=}')"
   ]
  },
  {
   "cell_type": "code",
   "execution_count": 35,
   "metadata": {},
   "outputs": [
    {
     "name": "stdout",
     "output_type": "stream",
     "text": [
      "[LightGBM] [Warning] feature_fraction is set=0.6240077731212971, colsample_bytree=1.0 will be ignored. Current value: feature_fraction=0.6240077731212971\n",
      "[LightGBM] [Warning] bagging_fraction is set=0.8356934535326543, subsample=1.0 will be ignored. Current value: bagging_fraction=0.8356934535326543\n"
     ]
    },
    {
     "data": {
      "text/html": [
       "<style>#sk-container-id-2 {color: black;background-color: white;}#sk-container-id-2 pre{padding: 0;}#sk-container-id-2 div.sk-toggleable {background-color: white;}#sk-container-id-2 label.sk-toggleable__label {cursor: pointer;display: block;width: 100%;margin-bottom: 0;padding: 0.3em;box-sizing: border-box;text-align: center;}#sk-container-id-2 label.sk-toggleable__label-arrow:before {content: \"▸\";float: left;margin-right: 0.25em;color: #696969;}#sk-container-id-2 label.sk-toggleable__label-arrow:hover:before {color: black;}#sk-container-id-2 div.sk-estimator:hover label.sk-toggleable__label-arrow:before {color: black;}#sk-container-id-2 div.sk-toggleable__content {max-height: 0;max-width: 0;overflow: hidden;text-align: left;background-color: #f0f8ff;}#sk-container-id-2 div.sk-toggleable__content pre {margin: 0.2em;color: black;border-radius: 0.25em;background-color: #f0f8ff;}#sk-container-id-2 input.sk-toggleable__control:checked~div.sk-toggleable__content {max-height: 200px;max-width: 100%;overflow: auto;}#sk-container-id-2 input.sk-toggleable__control:checked~label.sk-toggleable__label-arrow:before {content: \"▾\";}#sk-container-id-2 div.sk-estimator input.sk-toggleable__control:checked~label.sk-toggleable__label {background-color: #d4ebff;}#sk-container-id-2 div.sk-label input.sk-toggleable__control:checked~label.sk-toggleable__label {background-color: #d4ebff;}#sk-container-id-2 input.sk-hidden--visually {border: 0;clip: rect(1px 1px 1px 1px);clip: rect(1px, 1px, 1px, 1px);height: 1px;margin: -1px;overflow: hidden;padding: 0;position: absolute;width: 1px;}#sk-container-id-2 div.sk-estimator {font-family: monospace;background-color: #f0f8ff;border: 1px dotted black;border-radius: 0.25em;box-sizing: border-box;margin-bottom: 0.5em;}#sk-container-id-2 div.sk-estimator:hover {background-color: #d4ebff;}#sk-container-id-2 div.sk-parallel-item::after {content: \"\";width: 100%;border-bottom: 1px solid gray;flex-grow: 1;}#sk-container-id-2 div.sk-label:hover label.sk-toggleable__label {background-color: #d4ebff;}#sk-container-id-2 div.sk-serial::before {content: \"\";position: absolute;border-left: 1px solid gray;box-sizing: border-box;top: 0;bottom: 0;left: 50%;z-index: 0;}#sk-container-id-2 div.sk-serial {display: flex;flex-direction: column;align-items: center;background-color: white;padding-right: 0.2em;padding-left: 0.2em;position: relative;}#sk-container-id-2 div.sk-item {position: relative;z-index: 1;}#sk-container-id-2 div.sk-parallel {display: flex;align-items: stretch;justify-content: center;background-color: white;position: relative;}#sk-container-id-2 div.sk-item::before, #sk-container-id-2 div.sk-parallel-item::before {content: \"\";position: absolute;border-left: 1px solid gray;box-sizing: border-box;top: 0;bottom: 0;left: 50%;z-index: -1;}#sk-container-id-2 div.sk-parallel-item {display: flex;flex-direction: column;z-index: 1;position: relative;background-color: white;}#sk-container-id-2 div.sk-parallel-item:first-child::after {align-self: flex-end;width: 50%;}#sk-container-id-2 div.sk-parallel-item:last-child::after {align-self: flex-start;width: 50%;}#sk-container-id-2 div.sk-parallel-item:only-child::after {width: 0;}#sk-container-id-2 div.sk-dashed-wrapped {border: 1px dashed gray;margin: 0 0.4em 0.5em 0.4em;box-sizing: border-box;padding-bottom: 0.4em;background-color: white;}#sk-container-id-2 div.sk-label label {font-family: monospace;font-weight: bold;display: inline-block;line-height: 1.2em;}#sk-container-id-2 div.sk-label-container {text-align: center;}#sk-container-id-2 div.sk-container {/* jupyter's `normalize.less` sets `[hidden] { display: none; }` but bootstrap.min.css set `[hidden] { display: none !important; }` so we also need the `!important` here to be able to override the default hidden behavior on the sphinx rendered scikit-learn.org. See: https://github.com/scikit-learn/scikit-learn/issues/21755 */display: inline-block !important;position: relative;}#sk-container-id-2 div.sk-text-repr-fallback {display: none;}</style><div id=\"sk-container-id-2\" class=\"sk-top-container\"><div class=\"sk-text-repr-fallback\"><pre>Pipeline(steps=[(&#x27;functiontransformer&#x27;,\n",
       "                 FunctionTransformer(func=&lt;function average_rides_last_4_weeks at 0x0000014C9862ADC0&gt;)),\n",
       "                (&#x27;temporalfeatureengineer&#x27;, TemporalFeatureEngineer()),\n",
       "                (&#x27;lgbmregressor&#x27;,\n",
       "                 LGBMRegressor(bagging_fraction=0.8356934535326543,\n",
       "                               feature_fraction=0.6240077731212971,\n",
       "                               min_child_samples=58, num_leaves=191))])</pre><b>In a Jupyter environment, please rerun this cell to show the HTML representation or trust the notebook. <br />On GitHub, the HTML representation is unable to render, please try loading this page with nbviewer.org.</b></div><div class=\"sk-container\" hidden><div class=\"sk-item sk-dashed-wrapped\"><div class=\"sk-label-container\"><div class=\"sk-label sk-toggleable\"><input class=\"sk-toggleable__control sk-hidden--visually\" id=\"sk-estimator-id-5\" type=\"checkbox\" ><label for=\"sk-estimator-id-5\" class=\"sk-toggleable__label sk-toggleable__label-arrow\">Pipeline</label><div class=\"sk-toggleable__content\"><pre>Pipeline(steps=[(&#x27;functiontransformer&#x27;,\n",
       "                 FunctionTransformer(func=&lt;function average_rides_last_4_weeks at 0x0000014C9862ADC0&gt;)),\n",
       "                (&#x27;temporalfeatureengineer&#x27;, TemporalFeatureEngineer()),\n",
       "                (&#x27;lgbmregressor&#x27;,\n",
       "                 LGBMRegressor(bagging_fraction=0.8356934535326543,\n",
       "                               feature_fraction=0.6240077731212971,\n",
       "                               min_child_samples=58, num_leaves=191))])</pre></div></div></div><div class=\"sk-serial\"><div class=\"sk-item\"><div class=\"sk-estimator sk-toggleable\"><input class=\"sk-toggleable__control sk-hidden--visually\" id=\"sk-estimator-id-6\" type=\"checkbox\" ><label for=\"sk-estimator-id-6\" class=\"sk-toggleable__label sk-toggleable__label-arrow\">FunctionTransformer</label><div class=\"sk-toggleable__content\"><pre>FunctionTransformer(func=&lt;function average_rides_last_4_weeks at 0x0000014C9862ADC0&gt;)</pre></div></div></div><div class=\"sk-item\"><div class=\"sk-estimator sk-toggleable\"><input class=\"sk-toggleable__control sk-hidden--visually\" id=\"sk-estimator-id-7\" type=\"checkbox\" ><label for=\"sk-estimator-id-7\" class=\"sk-toggleable__label sk-toggleable__label-arrow\">TemporalFeatureEngineer</label><div class=\"sk-toggleable__content\"><pre>TemporalFeatureEngineer()</pre></div></div></div><div class=\"sk-item\"><div class=\"sk-estimator sk-toggleable\"><input class=\"sk-toggleable__control sk-hidden--visually\" id=\"sk-estimator-id-8\" type=\"checkbox\" ><label for=\"sk-estimator-id-8\" class=\"sk-toggleable__label sk-toggleable__label-arrow\">LGBMRegressor</label><div class=\"sk-toggleable__content\"><pre>LGBMRegressor(bagging_fraction=0.8356934535326543,\n",
       "              feature_fraction=0.6240077731212971, min_child_samples=58,\n",
       "              num_leaves=191)</pre></div></div></div></div></div></div></div>"
      ],
      "text/plain": [
       "Pipeline(steps=[('functiontransformer',\n",
       "                 FunctionTransformer(func=<function average_rides_last_4_weeks at 0x0000014C9862ADC0>)),\n",
       "                ('temporalfeatureengineer', TemporalFeatureEngineer()),\n",
       "                ('lgbmregressor',\n",
       "                 LGBMRegressor(bagging_fraction=0.8356934535326543,\n",
       "                               feature_fraction=0.6240077731212971,\n",
       "                               min_child_samples=58, num_leaves=191))])"
      ]
     },
     "execution_count": 35,
     "metadata": {},
     "output_type": "execute_result"
    }
   ],
   "source": [
    "pipeline = get_pipeline(**best_params)\n",
    "pipeline.fit(X_train, y_train)"
   ]
  },
  {
   "cell_type": "code",
   "execution_count": 36,
   "metadata": {},
   "outputs": [
    {
     "name": "stdout",
     "output_type": "stream",
     "text": [
      "test_mae=5.1812\n"
     ]
    }
   ],
   "source": [
    "predictions = pipeline.predict(X_test)\n",
    "test_mae = mean_absolute_error(y_test, predictions)\n",
    "print(f'{test_mae=:.4f}')"
   ]
  },
  {
   "cell_type": "code",
   "execution_count": 40,
   "metadata": {},
   "outputs": [
    {
     "data": {
      "text/plain": [
       "['C:\\\\Users\\\\Avi\\\\Desktop\\\\taxi_demand_ml_project\\\\models\\\\model.pkl']"
      ]
     },
     "execution_count": 40,
     "metadata": {},
     "output_type": "execute_result"
    }
   ],
   "source": [
    "import joblib\n",
    "from src.paths import MODELS_DIR\n",
    "\n",
    "joblib.dump(pipeline, MODELS_DIR / 'model.pkl')"
   ]
  },
  {
   "cell_type": "code",
   "execution_count": 41,
   "metadata": {},
   "outputs": [],
   "source": [
    "from hsml.schema import Schema\n",
    "from hsml.model_schema import ModelSchema\n",
    "\n",
    "input_schema = Schema(X_train)\n",
    "output_schema = Schema(y_train)\n",
    "model_schema = ModelSchema(input_schema=input_schema, output_schema=output_schema)"
   ]
  },
  {
   "cell_type": "code",
   "execution_count": 43,
   "metadata": {},
   "outputs": [
    {
     "name": "stdout",
     "output_type": "stream",
     "text": [
      "Connected. Call `.close()` to terminate connection gracefully.\n"
     ]
    },
    {
     "data": {
      "application/vnd.jupyter.widget-view+json": {
       "model_id": "65542610f1c74c0c8740f01c98a42dc7",
       "version_major": 2,
       "version_minor": 0
      },
      "text/plain": [
       "  0%|          | 0/6 [00:00<?, ?it/s]"
      ]
     },
     "metadata": {},
     "output_type": "display_data"
    },
    {
     "name": "stdout",
     "output_type": "stream",
     "text": [
      "Model created, explore it at https://c.app.hopsworks.ai:443/p/45206/models/taxi_demand_predictor_next_hour/2\n"
     ]
    },
    {
     "data": {
      "text/plain": [
       "Model(name: 'taxi_demand_predictor_next_hour', version: 2)"
      ]
     },
     "execution_count": 43,
     "metadata": {},
     "output_type": "execute_result"
    }
   ],
   "source": [
    "model_registry = project.get_model_registry()\n",
    "\n",
    "model = model_registry.sklearn.create_model(\n",
    "    name = 'taxi_demand_predictor_next_hour',\n",
    "    metrics = {'test_mae': test_mae},\n",
    "    description = \"LightGBM Regressor with a bit of hyper-parameter tuning\",\n",
    "    input_example=X_train.sample(),\n",
    "    model_schema=model_schema\n",
    ")\n",
    "\n",
    "model.save(MODELS_DIR / 'model.pkl')"
   ]
  },
  {
   "cell_type": "code",
   "execution_count": null,
   "metadata": {},
   "outputs": [],
   "source": []
  }
 ],
 "metadata": {
  "kernelspec": {
   "display_name": ".venv",
   "language": "python",
   "name": "python3"
  },
  "language_info": {
   "codemirror_mode": {
    "name": "ipython",
    "version": 3
   },
   "file_extension": ".py",
   "mimetype": "text/x-python",
   "name": "python",
   "nbconvert_exporter": "python",
   "pygments_lexer": "ipython3",
   "version": "3.9.6"
  },
  "orig_nbformat": 4
 },
 "nbformat": 4,
 "nbformat_minor": 2
}
